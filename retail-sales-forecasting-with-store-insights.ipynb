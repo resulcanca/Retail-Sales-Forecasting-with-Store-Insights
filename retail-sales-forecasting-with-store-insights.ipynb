{
 "cells": [
  {
   "cell_type": "markdown",
   "id": "46d9f7f1",
   "metadata": {
    "papermill": {
     "duration": 0.00329,
     "end_time": "2025-07-11T20:50:35.763471",
     "exception": false,
     "start_time": "2025-07-11T20:50:35.760181",
     "status": "completed"
    },
    "tags": []
   },
   "source": [
    "# 🏪 Retail Sales Forecasting with Store Insights\n",
    "\n",
    "## 🎯 Proje Amacı\n",
    "\n",
    "Bu projede, Rossmann mağazalarının satış verileri kullanılarak günlük satış tahminleri yapılmıştır. Mağaza bilgileri, promosyon detayları ve tarihsel veriler birleştirilerek anlamlı özellikler oluşturulmuş; makine öğrenmesi modelleriyle gelecekteki satışlar tahmin edilmiştir.\n",
    "\n",
    "---\n",
    "\n",
    "## 📊 Kullanılan Veri Setleri\n",
    "\n",
    "- `train.csv`: Geçmiş satış verileri (mağaza, tarih, promosyon, tatil vs.)\n",
    "- `store.csv`: Her mağaza için sabit bilgiler (tipi, konumu, rekabet mesafesi vs.)\n",
    "- `test.csv`: Tahmin yapılacak tarihler\n",
    "- `sample_submission.csv`: Beklenen tahmin formatı\n",
    "\n",
    "---\n",
    "\n",
    "## ⚙️ Uygulanan Adımlar\n",
    "\n",
    "1. **Veri Yükleme & İnceleme**\n",
    "2. **Mağaza bilgileriyle birleştirme (`merge`)**\n",
    "3. **Tarih sütunundan yeni özellikler üretme** (`Year`, `Month`, `WeekOfYear` vs.)\n",
    "4. **Kategorik değişkenleri encoding ile sayısallaştırma**\n",
    "5. **Eksik verilerin medyanla doldurulması**\n",
    "6. **Random Forest Regressor ile model eğitimi**\n",
    "7. **Satış tahminlerinin yapılması ve submission dosyası oluşturulması**\n",
    "\n",
    "---\n",
    "\n",
    "## 📈 Kullanılan Model\n",
    "\n",
    "- **Model**: `RandomForestRegressor`\n",
    "- **Neden?**: Karmaşık veri setlerinde hızlı, güçlü ve yorumlanabilir sonuçlar sunması\n",
    "- **Alternatifler**: `XGBoost`, `LightGBM` (ileride test edilebilir)\n",
    "\n",
    "---\n",
    "\n",
    "## 🔚 Sonuç\n",
    "\n",
    "Model, mağaza ve tarihsel bilgilerle tahmin yapabilecek duruma getirildi. Submission dosyası Kaggle yarışması için uygun formatta üretildi. Performans daha ileri modellerle artırılabilir.\n"
   ]
  },
  {
   "cell_type": "code",
   "execution_count": 1,
   "id": "811cf550",
   "metadata": {
    "_cell_guid": "b1076dfc-b9ad-4769-8c92-a6c4dae69d19",
    "_uuid": "8f2839f25d086af736a60e9eeb907d3b93b6e0e5",
    "execution": {
     "iopub.execute_input": "2025-07-11T20:50:35.770736Z",
     "iopub.status.busy": "2025-07-11T20:50:35.770324Z",
     "iopub.status.idle": "2025-07-11T20:50:37.781081Z",
     "shell.execute_reply": "2025-07-11T20:50:37.780075Z"
    },
    "papermill": {
     "duration": 2.016318,
     "end_time": "2025-07-11T20:50:37.782861",
     "exception": false,
     "start_time": "2025-07-11T20:50:35.766543",
     "status": "completed"
    },
    "tags": []
   },
   "outputs": [
    {
     "name": "stdout",
     "output_type": "stream",
     "text": [
      "/kaggle/input/rossmann-store-sales/sample_submission.csv\n",
      "/kaggle/input/rossmann-store-sales/store.csv\n",
      "/kaggle/input/rossmann-store-sales/train.csv\n",
      "/kaggle/input/rossmann-store-sales/test.csv\n"
     ]
    }
   ],
   "source": [
    "# This Python 3 environment comes with many helpful analytics libraries installed\n",
    "# It is defined by the kaggle/python Docker image: https://github.com/kaggle/docker-python\n",
    "# For example, here's several helpful packages to load\n",
    "\n",
    "import numpy as np # linear algebra\n",
    "import pandas as pd # data processing, CSV file I/O (e.g. pd.read_csv)\n",
    "\n",
    "# Input data files are available in the read-only \"../input/\" directory\n",
    "# For example, running this (by clicking run or pressing Shift+Enter) will list all files under the input directory\n",
    "\n",
    "import os\n",
    "for dirname, _, filenames in os.walk('/kaggle/input'):\n",
    "    for filename in filenames:\n",
    "        print(os.path.join(dirname, filename))\n",
    "\n",
    "# You can write up to 20GB to the current directory (/kaggle/working/) that gets preserved as output when you create a version using \"Save & Run All\" \n",
    "# You can also write temporary files to /kaggle/temp/, but they won't be saved outside of the current session"
   ]
  },
  {
   "cell_type": "code",
   "execution_count": 2,
   "id": "486745d8",
   "metadata": {
    "execution": {
     "iopub.execute_input": "2025-07-11T20:50:37.789904Z",
     "iopub.status.busy": "2025-07-11T20:50:37.789465Z",
     "iopub.status.idle": "2025-07-11T20:50:39.510104Z",
     "shell.execute_reply": "2025-07-11T20:50:39.509221Z"
    },
    "papermill": {
     "duration": 1.725836,
     "end_time": "2025-07-11T20:50:39.511718",
     "exception": false,
     "start_time": "2025-07-11T20:50:37.785882",
     "status": "completed"
    },
    "tags": []
   },
   "outputs": [],
   "source": [
    "store_df = pd.read_csv('/kaggle/input/rossmann-store-sales/store.csv')\n",
    "test_df = pd.read_csv('/kaggle/input/rossmann-store-sales/test.csv')\n",
    "sample_submission_df = pd.read_csv('/kaggle/input/rossmann-store-sales/sample_submission.csv')\n",
    "train_df = pd.read_csv('/kaggle/input/rossmann-store-sales/train.csv', dtype={'StateHoliday': str}, low_memory=False)"
   ]
  },
  {
   "cell_type": "code",
   "execution_count": 3,
   "id": "b03eae7f",
   "metadata": {
    "execution": {
     "iopub.execute_input": "2025-07-11T20:50:39.518277Z",
     "iopub.status.busy": "2025-07-11T20:50:39.517986Z",
     "iopub.status.idle": "2025-07-11T20:50:40.063489Z",
     "shell.execute_reply": "2025-07-11T20:50:40.062150Z"
    },
    "papermill": {
     "duration": 0.550787,
     "end_time": "2025-07-11T20:50:40.065285",
     "exception": false,
     "start_time": "2025-07-11T20:50:39.514498",
     "status": "completed"
    },
    "tags": []
   },
   "outputs": [
    {
     "name": "stdout",
     "output_type": "stream",
     "text": [
      "Store                             0\n",
      "DayOfWeek                         0\n",
      "Date                              0\n",
      "Sales                             0\n",
      "Customers                         0\n",
      "Open                              0\n",
      "Promo                             0\n",
      "StateHoliday                      0\n",
      "SchoolHoliday                     0\n",
      "StoreType                         0\n",
      "Assortment                        0\n",
      "CompetitionDistance            2642\n",
      "CompetitionOpenSinceMonth    323348\n",
      "CompetitionOpenSinceYear     323348\n",
      "Promo2                            0\n",
      "Promo2SinceWeek              508031\n",
      "Promo2SinceYear              508031\n",
      "PromoInterval                508031\n",
      "dtype: int64\n",
      "Id                               0\n",
      "Store                            0\n",
      "DayOfWeek                        0\n",
      "Date                             0\n",
      "Open                            11\n",
      "Promo                            0\n",
      "StateHoliday                     0\n",
      "SchoolHoliday                    0\n",
      "StoreType                        0\n",
      "Assortment                       0\n",
      "CompetitionDistance             96\n",
      "CompetitionOpenSinceMonth    15216\n",
      "CompetitionOpenSinceYear     15216\n",
      "Promo2                           0\n",
      "Promo2SinceWeek              17232\n",
      "Promo2SinceYear              17232\n",
      "PromoInterval                17232\n",
      "dtype: int64\n"
     ]
    }
   ],
   "source": [
    "train_df_merged = pd.merge(train_df, store_df, on='Store', how='left')\n",
    "test_df_merged = pd.merge(test_df, store_df, on='Store', how='left')\n",
    "\n",
    "train_df_merged['Date'] = pd.to_datetime(train_df_merged['Date'])\n",
    "test_df_merged['Date'] = pd.to_datetime(test_df_merged['Date'])\n",
    "\n",
    "print(train_df_merged.isnull().sum())\n",
    "print(test_df_merged.isnull().sum())"
   ]
  },
  {
   "cell_type": "code",
   "execution_count": 4,
   "id": "9220f8e8",
   "metadata": {
    "execution": {
     "iopub.execute_input": "2025-07-11T20:50:40.073044Z",
     "iopub.status.busy": "2025-07-11T20:50:40.072261Z",
     "iopub.status.idle": "2025-07-11T20:50:40.218742Z",
     "shell.execute_reply": "2025-07-11T20:50:40.217690Z"
    },
    "papermill": {
     "duration": 0.152464,
     "end_time": "2025-07-11T20:50:40.220827",
     "exception": false,
     "start_time": "2025-07-11T20:50:40.068363",
     "status": "completed"
    },
    "tags": []
   },
   "outputs": [],
   "source": [
    "for df in [train_df_merged, test_df_merged]:\n",
    "    df['Year'] = df['Date'].dt.year\n",
    "    df['Month'] = df['Date'].dt.month\n",
    "    df['Day'] = df['Date'].dt.day\n",
    "    df['WeekOfYear'] = df['Date'].dt.isocalendar().week.astype(int)\n"
   ]
  },
  {
   "cell_type": "code",
   "execution_count": 5,
   "id": "bb8db9c1",
   "metadata": {
    "execution": {
     "iopub.execute_input": "2025-07-11T20:50:40.227790Z",
     "iopub.status.busy": "2025-07-11T20:50:40.227454Z",
     "iopub.status.idle": "2025-07-11T20:50:42.899225Z",
     "shell.execute_reply": "2025-07-11T20:50:42.898405Z"
    },
    "papermill": {
     "duration": 2.677205,
     "end_time": "2025-07-11T20:50:42.901009",
     "exception": false,
     "start_time": "2025-07-11T20:50:40.223804",
     "status": "completed"
    },
    "tags": []
   },
   "outputs": [],
   "source": [
    "from sklearn.preprocessing import LabelEncoder\n",
    "\n",
    "for df in [train_df_merged, test_df_merged]:\n",
    "    df['StateHoliday'] = df['StateHoliday'].astype(str)\n",
    "    df['PromoInterval'] = df['PromoInterval'].astype(str)\n",
    "\n",
    "le_state = LabelEncoder()\n",
    "le_promo = LabelEncoder()\n",
    "\n",
    "for df in [train_df_merged, test_df_merged]:\n",
    "    df['StateHoliday'] = le_state.fit_transform(df['StateHoliday'])\n",
    "    df['PromoInterval'] = le_promo.fit_transform(df['PromoInterval'])\n",
    "\n",
    "train_df_merged = pd.get_dummies(train_df_merged, columns=['StoreType', 'Assortment'])\n",
    "test_df_merged = pd.get_dummies(test_df_merged, columns=['StoreType', 'Assortment'])\n",
    "\n",
    "\n",
    "train_cols = set(train_df_merged.columns)\n",
    "test_cols = set(test_df_merged.columns)\n",
    "\n",
    "for col in train_cols - test_cols:\n",
    "    test_df_merged[col] = 0\n",
    "for col in test_cols - train_cols:\n",
    "    train_df_merged[col] = 0\n",
    "\n",
    "test_df_merged = test_df_merged[train_df_merged.columns.drop('Sales', errors='ignore')]\n"
   ]
  },
  {
   "cell_type": "code",
   "execution_count": 6,
   "id": "b52f24d6",
   "metadata": {
    "execution": {
     "iopub.execute_input": "2025-07-11T20:50:42.907872Z",
     "iopub.status.busy": "2025-07-11T20:50:42.907362Z",
     "iopub.status.idle": "2025-07-11T20:50:43.225523Z",
     "shell.execute_reply": "2025-07-11T20:50:43.224074Z"
    },
    "papermill": {
     "duration": 0.32368,
     "end_time": "2025-07-11T20:50:43.227508",
     "exception": false,
     "start_time": "2025-07-11T20:50:42.903828",
     "status": "completed"
    },
    "tags": []
   },
   "outputs": [],
   "source": [
    "for df in [train_df_merged, test_df_merged]:\n",
    "    df.fillna(df.median(numeric_only=True), inplace=True)\n"
   ]
  },
  {
   "cell_type": "code",
   "execution_count": 7,
   "id": "0786e40c",
   "metadata": {
    "execution": {
     "iopub.execute_input": "2025-07-11T20:50:43.235341Z",
     "iopub.status.busy": "2025-07-11T20:50:43.235009Z",
     "iopub.status.idle": "2025-07-11T20:50:43.284024Z",
     "shell.execute_reply": "2025-07-11T20:50:43.282604Z"
    },
    "papermill": {
     "duration": 0.054804,
     "end_time": "2025-07-11T20:50:43.285823",
     "exception": false,
     "start_time": "2025-07-11T20:50:43.231019",
     "status": "completed"
    },
    "tags": []
   },
   "outputs": [],
   "source": [
    "drop_cols = ['Sales', 'Customers', 'Date', 'Id']\n",
    "\n",
    "X_train = train_df_merged.drop(columns=[col for col in drop_cols if col in train_df_merged.columns])\n",
    "y_train = train_df_merged['Sales']\n",
    "\n",
    "X_test = test_df_merged.drop(columns=[col for col in drop_cols if col in test_df_merged.columns])\n"
   ]
  },
  {
   "cell_type": "code",
   "execution_count": 8,
   "id": "93a58e51",
   "metadata": {
    "execution": {
     "iopub.execute_input": "2025-07-11T20:50:43.293102Z",
     "iopub.status.busy": "2025-07-11T20:50:43.292759Z",
     "iopub.status.idle": "2025-07-11T20:55:26.303699Z",
     "shell.execute_reply": "2025-07-11T20:55:26.302703Z"
    },
    "papermill": {
     "duration": 283.019299,
     "end_time": "2025-07-11T20:55:26.308292",
     "exception": false,
     "start_time": "2025-07-11T20:50:43.288993",
     "status": "completed"
    },
    "tags": []
   },
   "outputs": [
    {
     "data": {
      "text/html": [
       "<div>\n",
       "<style scoped>\n",
       "    .dataframe tbody tr th:only-of-type {\n",
       "        vertical-align: middle;\n",
       "    }\n",
       "\n",
       "    .dataframe tbody tr th {\n",
       "        vertical-align: top;\n",
       "    }\n",
       "\n",
       "    .dataframe thead th {\n",
       "        text-align: right;\n",
       "    }\n",
       "</style>\n",
       "<table border=\"1\" class=\"dataframe\">\n",
       "  <thead>\n",
       "    <tr style=\"text-align: right;\">\n",
       "      <th></th>\n",
       "      <th>Id</th>\n",
       "      <th>Sales</th>\n",
       "    </tr>\n",
       "  </thead>\n",
       "  <tbody>\n",
       "    <tr>\n",
       "      <th>0</th>\n",
       "      <td>1</td>\n",
       "      <td>4384.28</td>\n",
       "    </tr>\n",
       "    <tr>\n",
       "      <th>1</th>\n",
       "      <td>2</td>\n",
       "      <td>7560.85</td>\n",
       "    </tr>\n",
       "    <tr>\n",
       "      <th>2</th>\n",
       "      <td>3</td>\n",
       "      <td>9096.23</td>\n",
       "    </tr>\n",
       "    <tr>\n",
       "      <th>3</th>\n",
       "      <td>4</td>\n",
       "      <td>8238.18</td>\n",
       "    </tr>\n",
       "    <tr>\n",
       "      <th>4</th>\n",
       "      <td>5</td>\n",
       "      <td>7692.28</td>\n",
       "    </tr>\n",
       "  </tbody>\n",
       "</table>\n",
       "</div>"
      ],
      "text/plain": [
       "   Id    Sales\n",
       "0   1  4384.28\n",
       "1   2  7560.85\n",
       "2   3  9096.23\n",
       "3   4  8238.18\n",
       "4   5  7692.28"
      ]
     },
     "execution_count": 8,
     "metadata": {},
     "output_type": "execute_result"
    }
   ],
   "source": [
    "from sklearn.ensemble import RandomForestRegressor\n",
    "\n",
    "rf_model = RandomForestRegressor(n_estimators=100, random_state=42, n_jobs=-1)\n",
    "rf_model.fit(X_train, y_train)\n",
    "\n",
    "preds = rf_model.predict(X_test)\n",
    "preds = np.maximum(0, preds)\n",
    "\n",
    "submission = pd.DataFrame({'Id': test_df['Id'], 'Sales': preds})\n",
    "submission.to_csv('submission.csv', index=False)\n",
    "submission.head()"
   ]
  },
  {
   "cell_type": "code",
   "execution_count": 9,
   "id": "b22580ba",
   "metadata": {
    "execution": {
     "iopub.execute_input": "2025-07-11T20:55:26.317489Z",
     "iopub.status.busy": "2025-07-11T20:55:26.317145Z",
     "iopub.status.idle": "2025-07-11T20:55:27.272687Z",
     "shell.execute_reply": "2025-07-11T20:55:27.271675Z"
    },
    "papermill": {
     "duration": 0.963051,
     "end_time": "2025-07-11T20:55:27.274558",
     "exception": false,
     "start_time": "2025-07-11T20:55:26.311507",
     "status": "completed"
    },
    "tags": []
   },
   "outputs": [
    {
     "data": {
      "image/png": "[encoded data removed]",
      "text/plain": [
       "<Figure size 800x600 with 1 Axes>"
      ]
     },
     "metadata": {},
     "output_type": "display_data"
    }
   ],
   "source": [
    "import matplotlib.pyplot as plt\n",
    "\n",
    "feat_importances = pd.Series(rf_model.feature_importances_, index=X_train.columns)\n",
    "feat_importances.nlargest(15).plot(kind='barh', figsize=(8, 6))\n",
    "plt.title(\"Özellik Önem Skorları\")\n",
    "plt.show()"
   ]
  }
 ],
 "metadata": {
  "kaggle": {
   "accelerator": "none",
   "dataSources": [
    {
     "databundleVersionId": 860645,
     "sourceId": 4594,
     "sourceType": "competition"
    }
   ],
   "dockerImageVersionId": 31089,
   "isGpuEnabled": false,
   "isInternetEnabled": true,
   "language": "python",
   "sourceType": "notebook"
  },
  "kernelspec": {
   "display_name": "Python 3",
   "language": "python",
   "name": "python3"
  },
  "language_info": {
   "codemirror_mode": {
    "name": "ipython",
    "version": 3
   },
   "file_extension": ".py",
   "mimetype": "text/x-python",
   "name": "python",
   "nbconvert_exporter": "python",
   "pygments_lexer": "ipython3",
   "version": "3.11.13"
  },
  "papermill": {
   "default_parameters": {},
   "duration": 298.135179,
   "end_time": "2025-07-11T20:55:28.804242",
   "environment_variables": {},
   "exception": null,
   "input_path": "__notebook__.ipynb",
   "output_path": "__notebook__.ipynb",
   "parameters": {},
   "start_time": "2025-07-11T20:50:30.669063",
   "version": "2.6.0"
  }
 },
 "nbformat": 4,
 "nbformat_minor": 5
}
